{
 "cells": [
  {
   "cell_type": "code",
   "execution_count": 1,
   "metadata": {},
   "outputs": [],
   "source": [
    "import pandas as pd\n",
    "import numpy as np\n",
    "import seaborn as sns\n",
    "import matplotlib.pyplot as plt\n",
    "import scipy.stats as stats"
   ]
  },
  {
   "cell_type": "code",
   "execution_count": 2,
   "metadata": {},
   "outputs": [],
   "source": [
    "import warnings\n",
    "warnings.filterwarnings(\"ignore\")"
   ]
  },
  {
   "cell_type": "code",
   "execution_count": 4,
   "metadata": {},
   "outputs": [],
   "source": [
    "trees = pd.read_csv(\"datasets/trees.csv\")"
   ]
  },
  {
   "cell_type": "code",
   "execution_count": 5,
   "metadata": {},
   "outputs": [
    {
     "data": {
      "text/html": [
       "<table class=\"simpletable\">\n",
       "<caption>OLS Regression Results</caption>\n",
       "<tr>\n",
       "  <th>Dep. Variable:</th>         <td>Volume</td>      <th>  R-squared:         </th> <td>   0.935</td>\n",
       "</tr>\n",
       "<tr>\n",
       "  <th>Model:</th>                   <td>OLS</td>       <th>  Adj. R-squared:    </th> <td>   0.933</td>\n",
       "</tr>\n",
       "<tr>\n",
       "  <th>Method:</th>             <td>Least Squares</td>  <th>  F-statistic:       </th> <td>   419.4</td>\n",
       "</tr>\n",
       "<tr>\n",
       "  <th>Date:</th>             <td>Fri, 15 Mar 2019</td> <th>  Prob (F-statistic):</th> <td>8.64e-19</td>\n",
       "</tr>\n",
       "<tr>\n",
       "  <th>Time:</th>                 <td>10:41:55</td>     <th>  Log-Likelihood:    </th> <td> -87.822</td>\n",
       "</tr>\n",
       "<tr>\n",
       "  <th>No. Observations:</th>      <td>    31</td>      <th>  AIC:               </th> <td>   179.6</td>\n",
       "</tr>\n",
       "<tr>\n",
       "  <th>Df Residuals:</th>          <td>    29</td>      <th>  BIC:               </th> <td>   182.5</td>\n",
       "</tr>\n",
       "<tr>\n",
       "  <th>Df Model:</th>              <td>     1</td>      <th>                     </th>     <td> </td>   \n",
       "</tr>\n",
       "<tr>\n",
       "  <th>Covariance Type:</th>      <td>nonrobust</td>    <th>                     </th>     <td> </td>   \n",
       "</tr>\n",
       "</table>\n",
       "<table class=\"simpletable\">\n",
       "<tr>\n",
       "    <td></td>       <th>coef</th>     <th>std err</th>      <th>t</th>      <th>P>|t|</th>  <th>[0.025</th>    <th>0.975]</th>  \n",
       "</tr>\n",
       "<tr>\n",
       "  <th>const</th> <td>  -36.9435</td> <td>    3.365</td> <td>  -10.978</td> <td> 0.000</td> <td>  -43.826</td> <td>  -30.061</td>\n",
       "</tr>\n",
       "<tr>\n",
       "  <th>Girth</th> <td>    5.0659</td> <td>    0.247</td> <td>   20.478</td> <td> 0.000</td> <td>    4.560</td> <td>    5.572</td>\n",
       "</tr>\n",
       "</table>\n",
       "<table class=\"simpletable\">\n",
       "<tr>\n",
       "  <th>Omnibus:</th>       <td> 0.169</td> <th>  Durbin-Watson:     </th> <td>   1.437</td>\n",
       "</tr>\n",
       "<tr>\n",
       "  <th>Prob(Omnibus):</th> <td> 0.919</td> <th>  Jarque-Bera (JB):  </th> <td>   0.382</td>\n",
       "</tr>\n",
       "<tr>\n",
       "  <th>Skew:</th>          <td> 0.028</td> <th>  Prob(JB):          </th> <td>   0.826</td>\n",
       "</tr>\n",
       "<tr>\n",
       "  <th>Kurtosis:</th>      <td> 2.459</td> <th>  Cond. No.          </th> <td>    60.3</td>\n",
       "</tr>\n",
       "</table><br/><br/>Warnings:<br/>[1] Standard Errors assume that the covariance matrix of the errors is correctly specified."
      ],
      "text/plain": [
       "<class 'statsmodels.iolib.summary.Summary'>\n",
       "\"\"\"\n",
       "                            OLS Regression Results                            \n",
       "==============================================================================\n",
       "Dep. Variable:                 Volume   R-squared:                       0.935\n",
       "Model:                            OLS   Adj. R-squared:                  0.933\n",
       "Method:                 Least Squares   F-statistic:                     419.4\n",
       "Date:                Fri, 15 Mar 2019   Prob (F-statistic):           8.64e-19\n",
       "Time:                        10:41:55   Log-Likelihood:                -87.822\n",
       "No. Observations:                  31   AIC:                             179.6\n",
       "Df Residuals:                      29   BIC:                             182.5\n",
       "Df Model:                           1                                         \n",
       "Covariance Type:            nonrobust                                         \n",
       "==============================================================================\n",
       "                 coef    std err          t      P>|t|      [0.025      0.975]\n",
       "------------------------------------------------------------------------------\n",
       "const        -36.9435      3.365    -10.978      0.000     -43.826     -30.061\n",
       "Girth          5.0659      0.247     20.478      0.000       4.560       5.572\n",
       "==============================================================================\n",
       "Omnibus:                        0.169   Durbin-Watson:                   1.437\n",
       "Prob(Omnibus):                  0.919   Jarque-Bera (JB):                0.382\n",
       "Skew:                           0.028   Prob(JB):                        0.826\n",
       "Kurtosis:                       2.459   Cond. No.                         60.3\n",
       "==============================================================================\n",
       "\n",
       "Warnings:\n",
       "[1] Standard Errors assume that the covariance matrix of the errors is correctly specified.\n",
       "\"\"\""
      ]
     },
     "execution_count": 5,
     "metadata": {},
     "output_type": "execute_result"
    }
   ],
   "source": [
    "import statsmodels.api as sm\n",
    "X = sm.add_constant(trees[[\"Girth\"]])\n",
    "y = trees[\"Volume\"]\n",
    "model = sm.OLS(y,X).fit()  #Fitting a regression model \n",
    "model.summary()"
   ]
  },
  {
   "cell_type": "code",
   "execution_count": 6,
   "metadata": {},
   "outputs": [],
   "source": [
    "predictions = model.predict(X)"
   ]
  },
  {
   "cell_type": "code",
   "execution_count": 8,
   "metadata": {},
   "outputs": [
    {
     "data": {
      "text/plain": [
       "Text(0, 0.5, 'Volume of trees(cubic ft.)')"
      ]
     },
     "execution_count": 8,
     "metadata": {},
     "output_type": "execute_result"
    },
    {
     "data": {
      "image/png": "[encoded data removed]",
      "text/plain": [
       "<Figure size 864x504 with 1 Axes>"
      ]
     },
     "metadata": {
      "needs_background": "light"
     },
     "output_type": "display_data"
    }
   ],
   "source": [
    "plt.figure(figsize=(12,7))\n",
    "plt.scatter(x= \"Girth\", y=\"Volume\", data = trees)\n",
    "plt.plot(trees.Girth, predictions, 'r')\n",
    "plt.title(\"Linear Regression model\")\n",
    "plt.xlabel(\"Girth of trees(ft.)\")\n",
    "plt.ylabel(\"Volume of trees(cubic ft.)\")"
   ]
  },
  {
   "cell_type": "markdown",
   "metadata": {},
   "source": [
    "#### using Girth + Girth**2"
   ]
  },
  {
   "cell_type": "code",
   "execution_count": 9,
   "metadata": {},
   "outputs": [],
   "source": [
    "import statsmodels.formula.api as smf\n",
    "trees_polynomial_model_2 = smf.ols(formula='Volume ~ Girth + I(Girth**2)', data=trees).fit()"
   ]
  },
  {
   "cell_type": "code",
   "execution_count": 12,
   "metadata": {},
   "outputs": [
    {
     "data": {
      "text/html": [
       "<table class=\"simpletable\">\n",
       "<caption>OLS Regression Results</caption>\n",
       "<tr>\n",
       "  <th>Dep. Variable:</th>         <td>Volume</td>      <th>  R-squared:         </th> <td>   0.962</td>\n",
       "</tr>\n",
       "<tr>\n",
       "  <th>Model:</th>                   <td>OLS</td>       <th>  Adj. R-squared:    </th> <td>   0.959</td>\n",
       "</tr>\n",
       "<tr>\n",
       "  <th>Method:</th>             <td>Least Squares</td>  <th>  F-statistic:       </th> <td>   350.5</td>\n",
       "</tr>\n",
       "<tr>\n",
       "  <th>Date:</th>             <td>Fri, 15 Mar 2019</td> <th>  Prob (F-statistic):</th> <td>1.52e-20</td>\n",
       "</tr>\n",
       "<tr>\n",
       "  <th>Time:</th>                 <td>10:44:39</td>     <th>  Log-Likelihood:    </th> <td> -79.746</td>\n",
       "</tr>\n",
       "<tr>\n",
       "  <th>No. Observations:</th>      <td>    31</td>      <th>  AIC:               </th> <td>   165.5</td>\n",
       "</tr>\n",
       "<tr>\n",
       "  <th>Df Residuals:</th>          <td>    28</td>      <th>  BIC:               </th> <td>   169.8</td>\n",
       "</tr>\n",
       "<tr>\n",
       "  <th>Df Model:</th>              <td>     2</td>      <th>                     </th>     <td> </td>   \n",
       "</tr>\n",
       "<tr>\n",
       "  <th>Covariance Type:</th>      <td>nonrobust</td>    <th>                     </th>     <td> </td>   \n",
       "</tr>\n",
       "</table>\n",
       "<table class=\"simpletable\">\n",
       "<tr>\n",
       "        <td></td>           <th>coef</th>     <th>std err</th>      <th>t</th>      <th>P>|t|</th>  <th>[0.025</th>    <th>0.975]</th>  \n",
       "</tr>\n",
       "<tr>\n",
       "  <th>Intercept</th>     <td>   10.7863</td> <td>   11.223</td> <td>    0.961</td> <td> 0.345</td> <td>  -12.203</td> <td>   33.775</td>\n",
       "</tr>\n",
       "<tr>\n",
       "  <th>Girth</th>         <td>   -2.0921</td> <td>    1.647</td> <td>   -1.270</td> <td> 0.215</td> <td>   -5.467</td> <td>    1.282</td>\n",
       "</tr>\n",
       "<tr>\n",
       "  <th>I(Girth ** 2)</th> <td>    0.2545</td> <td>    0.058</td> <td>    4.376</td> <td> 0.000</td> <td>    0.135</td> <td>    0.374</td>\n",
       "</tr>\n",
       "</table>\n",
       "<table class=\"simpletable\">\n",
       "<tr>\n",
       "  <th>Omnibus:</th>       <td> 0.529</td> <th>  Durbin-Watson:     </th> <td>   1.925</td>\n",
       "</tr>\n",
       "<tr>\n",
       "  <th>Prob(Omnibus):</th> <td> 0.767</td> <th>  Jarque-Bera (JB):  </th> <td>   0.653</td>\n",
       "</tr>\n",
       "<tr>\n",
       "  <th>Skew:</th>          <td> 0.220</td> <th>  Prob(JB):          </th> <td>   0.722</td>\n",
       "</tr>\n",
       "<tr>\n",
       "  <th>Kurtosis:</th>      <td> 2.442</td> <th>  Cond. No.          </th> <td>3.88e+03</td>\n",
       "</tr>\n",
       "</table><br/><br/>Warnings:<br/>[1] Standard Errors assume that the covariance matrix of the errors is correctly specified.<br/>[2] The condition number is large, 3.88e+03. This might indicate that there are<br/>strong multicollinearity or other numerical problems."
      ],
      "text/plain": [
       "<class 'statsmodels.iolib.summary.Summary'>\n",
       "\"\"\"\n",
       "                            OLS Regression Results                            \n",
       "==============================================================================\n",
       "Dep. Variable:                 Volume   R-squared:                       0.962\n",
       "Model:                            OLS   Adj. R-squared:                  0.959\n",
       "Method:                 Least Squares   F-statistic:                     350.5\n",
       "Date:                Fri, 15 Mar 2019   Prob (F-statistic):           1.52e-20\n",
       "Time:                        10:44:39   Log-Likelihood:                -79.746\n",
       "No. Observations:                  31   AIC:                             165.5\n",
       "Df Residuals:                      28   BIC:                             169.8\n",
       "Df Model:                           2                                         \n",
       "Covariance Type:            nonrobust                                         \n",
       "=================================================================================\n",
       "                    coef    std err          t      P>|t|      [0.025      0.975]\n",
       "---------------------------------------------------------------------------------\n",
       "Intercept        10.7863     11.223      0.961      0.345     -12.203      33.775\n",
       "Girth            -2.0921      1.647     -1.270      0.215      -5.467       1.282\n",
       "I(Girth ** 2)     0.2545      0.058      4.376      0.000       0.135       0.374\n",
       "==============================================================================\n",
       "Omnibus:                        0.529   Durbin-Watson:                   1.925\n",
       "Prob(Omnibus):                  0.767   Jarque-Bera (JB):                0.653\n",
       "Skew:                           0.220   Prob(JB):                        0.722\n",
       "Kurtosis:                       2.442   Cond. No.                     3.88e+03\n",
       "==============================================================================\n",
       "\n",
       "Warnings:\n",
       "[1] Standard Errors assume that the covariance matrix of the errors is correctly specified.\n",
       "[2] The condition number is large, 3.88e+03. This might indicate that there are\n",
       "strong multicollinearity or other numerical problems.\n",
       "\"\"\""
      ]
     },
     "execution_count": 12,
     "metadata": {},
     "output_type": "execute_result"
    }
   ],
   "source": [
    "trees_polynomial_model_2.summary()"
   ]
  },
  {
   "cell_type": "markdown",
   "metadata": {},
   "source": [
    "#### using Girth**2"
   ]
  },
  {
   "cell_type": "code",
   "execution_count": 11,
   "metadata": {},
   "outputs": [],
   "source": [
    "import statsmodels.formula.api as smf\n",
    "trees_polynomial_model_2_A = smf.ols(formula='Volume ~ I(Girth ** 2)', data=trees).fit()"
   ]
  },
  {
   "cell_type": "code",
   "execution_count": 14,
   "metadata": {},
   "outputs": [
    {
     "data": {
      "text/html": [
       "<table class=\"simpletable\">\n",
       "<caption>OLS Regression Results</caption>\n",
       "<tr>\n",
       "  <th>Dep. Variable:</th>         <td>Volume</td>      <th>  R-squared:         </th> <td>   0.959</td>\n",
       "</tr>\n",
       "<tr>\n",
       "  <th>Model:</th>                   <td>OLS</td>       <th>  Adj. R-squared:    </th> <td>   0.958</td>\n",
       "</tr>\n",
       "<tr>\n",
       "  <th>Method:</th>             <td>Least Squares</td>  <th>  F-statistic:       </th> <td>   684.8</td>\n",
       "</tr>\n",
       "<tr>\n",
       "  <th>Date:</th>             <td>Fri, 15 Mar 2019</td> <th>  Prob (F-statistic):</th> <td>1.01e-21</td>\n",
       "</tr>\n",
       "<tr>\n",
       "  <th>Time:</th>                 <td>10:45:27</td>     <th>  Log-Likelihood:    </th> <td> -80.614</td>\n",
       "</tr>\n",
       "<tr>\n",
       "  <th>No. Observations:</th>      <td>    31</td>      <th>  AIC:               </th> <td>   165.2</td>\n",
       "</tr>\n",
       "<tr>\n",
       "  <th>Df Residuals:</th>          <td>    29</td>      <th>  BIC:               </th> <td>   168.1</td>\n",
       "</tr>\n",
       "<tr>\n",
       "  <th>Df Model:</th>              <td>     1</td>      <th>                     </th>     <td> </td>   \n",
       "</tr>\n",
       "<tr>\n",
       "  <th>Covariance Type:</th>      <td>nonrobust</td>    <th>                     </th>     <td> </td>   \n",
       "</tr>\n",
       "</table>\n",
       "<table class=\"simpletable\">\n",
       "<tr>\n",
       "        <td></td>           <th>coef</th>     <th>std err</th>      <th>t</th>      <th>P>|t|</th>  <th>[0.025</th>    <th>0.975]</th>  \n",
       "</tr>\n",
       "<tr>\n",
       "  <th>Intercept</th>     <td>   -3.3551</td> <td>    1.417</td> <td>   -2.368</td> <td> 0.025</td> <td>   -6.253</td> <td>   -0.457</td>\n",
       "</tr>\n",
       "<tr>\n",
       "  <th>I(Girth ** 2)</th> <td>    0.1812</td> <td>    0.007</td> <td>   26.169</td> <td> 0.000</td> <td>    0.167</td> <td>    0.195</td>\n",
       "</tr>\n",
       "</table>\n",
       "<table class=\"simpletable\">\n",
       "<tr>\n",
       "  <th>Omnibus:</th>       <td> 0.830</td> <th>  Durbin-Watson:     </th> <td>   1.910</td>\n",
       "</tr>\n",
       "<tr>\n",
       "  <th>Prob(Omnibus):</th> <td> 0.660</td> <th>  Jarque-Bera (JB):  </th> <td>   0.756</td>\n",
       "</tr>\n",
       "<tr>\n",
       "  <th>Skew:</th>          <td>-0.056</td> <th>  Prob(JB):          </th> <td>   0.685</td>\n",
       "</tr>\n",
       "<tr>\n",
       "  <th>Kurtosis:</th>      <td> 2.243</td> <th>  Cond. No.          </th> <td>    479.</td>\n",
       "</tr>\n",
       "</table><br/><br/>Warnings:<br/>[1] Standard Errors assume that the covariance matrix of the errors is correctly specified."
      ],
      "text/plain": [
       "<class 'statsmodels.iolib.summary.Summary'>\n",
       "\"\"\"\n",
       "                            OLS Regression Results                            \n",
       "==============================================================================\n",
       "Dep. Variable:                 Volume   R-squared:                       0.959\n",
       "Model:                            OLS   Adj. R-squared:                  0.958\n",
       "Method:                 Least Squares   F-statistic:                     684.8\n",
       "Date:                Fri, 15 Mar 2019   Prob (F-statistic):           1.01e-21\n",
       "Time:                        10:45:27   Log-Likelihood:                -80.614\n",
       "No. Observations:                  31   AIC:                             165.2\n",
       "Df Residuals:                      29   BIC:                             168.1\n",
       "Df Model:                           1                                         \n",
       "Covariance Type:            nonrobust                                         \n",
       "=================================================================================\n",
       "                    coef    std err          t      P>|t|      [0.025      0.975]\n",
       "---------------------------------------------------------------------------------\n",
       "Intercept        -3.3551      1.417     -2.368      0.025      -6.253      -0.457\n",
       "I(Girth ** 2)     0.1812      0.007     26.169      0.000       0.167       0.195\n",
       "==============================================================================\n",
       "Omnibus:                        0.830   Durbin-Watson:                   1.910\n",
       "Prob(Omnibus):                  0.660   Jarque-Bera (JB):                0.756\n",
       "Skew:                          -0.056   Prob(JB):                        0.685\n",
       "Kurtosis:                       2.243   Cond. No.                         479.\n",
       "==============================================================================\n",
       "\n",
       "Warnings:\n",
       "[1] Standard Errors assume that the covariance matrix of the errors is correctly specified.\n",
       "\"\"\""
      ]
     },
     "execution_count": 14,
     "metadata": {},
     "output_type": "execute_result"
    }
   ],
   "source": [
    "trees_polynomial_model_2_A.summary()"
   ]
  },
  {
   "cell_type": "markdown",
   "metadata": {},
   "source": [
    "#### Visualizing the Obtained Non-Linear Regression Model"
   ]
  },
  {
   "cell_type": "code",
   "execution_count": 15,
   "metadata": {},
   "outputs": [],
   "source": [
    "predictions = trees_polynomial_model_2.predict(trees.Girth)"
   ]
  },
  {
   "cell_type": "code",
   "execution_count": 16,
   "metadata": {},
   "outputs": [
    {
     "data": {
      "text/plain": [
       "Text(0, 0.5, 'Volume of trees(cubic ft.)')"
      ]
     },
     "execution_count": 16,
     "metadata": {},
     "output_type": "execute_result"
    },
    {
     "data": {
      "image/png": "[encoded data removed]",
      "text/plain": [
       "<Figure size 864x504 with 1 Axes>"
      ]
     },
     "metadata": {
      "needs_background": "light"
     },
     "output_type": "display_data"
    }
   ],
   "source": [
    "plt.figure(figsize=(12,7))\n",
    "plt.scatter(x= \"Girth\", y=\"Volume\", data = trees)\n",
    "plt.plot(trees.Girth, predictions, 'r')\n",
    "plt.title(\"Linear Regression model\")\n",
    "plt.xlabel(\"Girth of trees(ft.)\")\n",
    "plt.ylabel(\"Volume of trees(cubic ft.)\")"
   ]
  },
  {
   "cell_type": "code",
   "execution_count": null,
   "metadata": {},
   "outputs": [],
   "source": []
  }
 ],
 "metadata": {
  "kernelspec": {
   "display_name": "Python 3",
   "language": "python",
   "name": "python3"
  },
  "language_info": {
   "codemirror_mode": {
    "name": "ipython",
    "version": 3
   },
   "file_extension": ".py",
   "mimetype": "text/x-python",
   "name": "python",
   "nbconvert_exporter": "python",
   "pygments_lexer": "ipython3",
   "version": "3.7.1"
  }
 },
 "nbformat": 4,
 "nbformat_minor": 2
}
